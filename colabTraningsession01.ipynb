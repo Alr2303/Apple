{
  "nbformat": 4,
  "nbformat_minor": 0,
  "metadata": {
    "colab": {
      "name": "colabTraningsession01.ipynb",
      "version": "0.3.2",
      "provenance": [],
      "collapsed_sections": [],
      "include_colab_link": true
    },
    "kernelspec": {
      "name": "python3",
      "display_name": "Python 3"
    }
  },
  "cells": [
    {
      "cell_type": "markdown",
      "metadata": {
        "id": "view-in-github",
        "colab_type": "text"
      },
      "source": [
        "<a href=\"https://colab.research.google.com/github/Alr2303/Apple/blob/master/colabTraningsession01.ipynb\" target=\"_parent\"><img src=\"https://colab.research.google.com/assets/colab-badge.svg\" alt=\"Open In Colab\"/></a>"
      ]
    },
    {
      "cell_type": "code",
      "metadata": {
        "id": "dhem5sJzCV1R",
        "colab_type": "code",
        "colab": {}
      },
      "source": [
        "alr=[23,\"g\",\"hangouts\"]"
      ],
      "execution_count": 0,
      "outputs": []
    },
    {
      "cell_type": "code",
      "metadata": {
        "id": "UORLKdZ4DeLm",
        "colab_type": "code",
        "colab": {}
      },
      "source": [
        "alr.append(\"Spotify\")"
      ],
      "execution_count": 0,
      "outputs": []
    },
    {
      "cell_type": "code",
      "metadata": {
        "id": "SdmuIGKTHXQ1",
        "colab_type": "code",
        "colab": {}
      },
      "source": [
        "!cat /proc/cpuinfo"
      ],
      "execution_count": 0,
      "outputs": []
    },
    {
      "cell_type": "code",
      "metadata": {
        "id": "vCcgvljoGmET",
        "colab_type": "code",
        "colab": {}
      },
      "source": [
        "TestTuple=(24,\"alr\",2*3,\"floating values\")\n"
      ],
      "execution_count": 0,
      "outputs": []
    },
    {
      "cell_type": "code",
      "metadata": {
        "id": "77hFrKbEYTWJ",
        "colab_type": "code",
        "colab": {}
      },
      "source": [
        "print(TestTuple,alr)"
      ],
      "execution_count": 0,
      "outputs": []
    },
    {
      "cell_type": "code",
      "metadata": {
        "id": "yfizKAUhcVvN",
        "colab_type": "code",
        "colab": {}
      },
      "source": [
        "books={1:\"akaash\",2:\"alr\",3:alr}"
      ],
      "execution_count": 0,
      "outputs": []
    },
    {
      "cell_type": "code",
      "metadata": {
        "id": "s9fOCVISdaty",
        "colab_type": "code",
        "colab": {}
      },
      "source": [
        "print(books)"
      ],
      "execution_count": 0,
      "outputs": []
    },
    {
      "cell_type": "markdown",
      "metadata": {
        "id": "u1pDYvcPhDqw",
        "colab_type": "text"
      },
      "source": [
        "IMPORT NUMPY"
      ]
    },
    {
      "cell_type": "code",
      "metadata": {
        "id": "ByWaj9OXhACR",
        "colab_type": "code",
        "colab": {}
      },
      "source": [
        "import numpy as np\n",
        "arr =np.array([1,23,55])\n",
        "arra=np.array([[23,4,1999],[2,3,1999]])\n",
        "print(arr,arra)"
      ],
      "execution_count": 0,
      "outputs": []
    },
    {
      "cell_type": "code",
      "metadata": {
        "id": "aBhGN5sVkVSk",
        "colab_type": "code",
        "colab": {}
      },
      "source": [
        "import pandas as pd\n",
        "d={'Name':['Alr','karthi','github'],'Age':['20','20','5'],'Mark':['90','10','34']}"
      ],
      "execution_count": 0,
      "outputs": []
    },
    {
      "cell_type": "code",
      "metadata": {
        "id": "bEee1-Kfllik",
        "colab_type": "code",
        "colab": {
          "base_uri": "https://localhost:8080/",
          "height": 34
        },
        "outputId": "ddfb56af-771b-4487-adcb-5e0aecfeec55"
      },
      "source": [
        "print(d)"
      ],
      "execution_count": 73,
      "outputs": [
        {
          "output_type": "stream",
          "text": [
            "{'Name': ['Alr', 'karthi', 'github'], 'Age': ['20', '20', '5'], 'Mark': ['90', '10', '34']}\n"
          ],
          "name": "stdout"
        }
      ]
    },
    {
      "cell_type": "code",
      "metadata": {
        "id": "RKtYXesyl1Ce",
        "colab_type": "code",
        "colab": {}
      },
      "source": [
        "df=pd.DataFrame(d)"
      ],
      "execution_count": 0,
      "outputs": []
    },
    {
      "cell_type": "code",
      "metadata": {
        "id": "4GD3pSEtm05M",
        "colab_type": "code",
        "colab": {
          "base_uri": "https://localhost:8080/",
          "height": 86
        },
        "outputId": "1bbc3489-2835-48e1-c7ee-2f8cf0293c31"
      },
      "source": [
        "print(df)"
      ],
      "execution_count": 78,
      "outputs": [
        {
          "output_type": "stream",
          "text": [
            "     Name Age Mark\n",
            "0     Alr  20   90\n",
            "1  karthi  20   10\n",
            "2  github   5   34\n"
          ],
          "name": "stdout"
        }
      ]
    }
  ]
}